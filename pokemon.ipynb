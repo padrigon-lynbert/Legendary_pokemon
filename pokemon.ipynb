{
 "cells": [
  {
   "cell_type": "code",
   "execution_count": 4,
   "metadata": {},
   "outputs": [],
   "source": [
    "import os\n",
    "import pandas as pd\n",
    "from sklearn.model_selection import train_test_split\n",
    "\n",
    "dataset_file = \"D:\\manualCDmanagement\\codes\\Projects\\VMs\\skl algorithms\\Logistic Regression/00_datasets/Pokemon\"\n",
    "file_name = 'pokemon.csv'\n",
    "dataset = pd.read_csv(os.path.join(dataset_file, file_name))\n",
    "df = pd.DataFrame(dataset)\n",
    "\n",
    "separate = ['Name', 'Type 1', 'Type 2', 'Legendary']\n",
    "\n",
    "for column in df.columns:\n",
    "    if column in separate:\n",
    "        df[column], _ = pd.factorize(df[column])\n",
    "\n",
    "# df['Legendary'] = df['Legendary'].map({True: 1, False: 0})\n",
    "# df['Legendary'], _ = pd.factorize(df['Legendary'])\n",
    "# df['Legendary'] = df['Legendary'].astype(int)\n",
    "\n",
    "\n",
    "X = df.drop('Legendary', axis=1)\n",
    "y = df['Legendary']\n",
    "\n",
    "X_train, X_test, y_train, y_test = train_test_split(X, y, test_size=0.2, random_state=42)"
   ]
  },
  {
   "cell_type": "code",
   "execution_count": 5,
   "metadata": {},
   "outputs": [
    {
     "data": {
      "text/plain": [
       "Name            0\n",
       "Type 1          0\n",
       "Type 2          0\n",
       "Combat Power    0\n",
       "HP              0\n",
       "Attack          0\n",
       "Defense         0\n",
       "Sp. Atk         0\n",
       "Sp. Def         0\n",
       "Speed           0\n",
       "Generation      0\n",
       "Legendary       0\n",
       "dtype: int64"
      ]
     },
     "execution_count": 5,
     "metadata": {},
     "output_type": "execute_result"
    }
   ],
   "source": [
    "df.isnull().sum()"
   ]
  },
  {
   "cell_type": "code",
   "execution_count": 6,
   "metadata": {},
   "outputs": [
    {
     "data": {
      "text/plain": [
       "Legendary\n",
       "0    146\n",
       "1      5\n",
       "Name: count, dtype: int64"
      ]
     },
     "execution_count": 6,
     "metadata": {},
     "output_type": "execute_result"
    }
   ],
   "source": [
    "df.Legendary.value_counts()"
   ]
  },
  {
   "cell_type": "code",
   "execution_count": 7,
   "metadata": {},
   "outputs": [],
   "source": [
    "# Scale, balance"
   ]
  },
  {
   "cell_type": "code",
   "execution_count": 8,
   "metadata": {},
   "outputs": [],
   "source": [
    "from sklearn.preprocessing import StandardScaler\n",
    "\n",
    "scaler = StandardScaler()\n",
    "X_train_scaled = scaler.fit_transform(X_train)\n",
    "X_test_scaled = scaler.transform(X_test)"
   ]
  },
  {
   "cell_type": "code",
   "execution_count": 9,
   "metadata": {},
   "outputs": [
    {
     "data": {
      "text/plain": [
       "' \\nLegendary\\n0    116\\n1      4\\nName: count, dtype: int64\\n'"
      ]
     },
     "execution_count": 9,
     "metadata": {},
     "output_type": "execute_result"
    }
   ],
   "source": [
    "# skipping this because:\n",
    "\n",
    "\"\"\" \n",
    "Legendary\n",
    "0    116\n",
    "1      4\n",
    "Name: count, dtype: int64\n",
    "\"\"\"\n",
    "\n",
    "# from imblearn.over_sampling import SMOTE\n",
    "# print(y_train.value_counts())\n",
    "\n",
    "# smote = SMOTE(random_state=42, k_neighbors=min(4, len(X_train_scaled)))\n",
    "# X_train_scaled_resampled, y_train_resampled = smote.fit_resample(X_train_scaled, y_train)"
   ]
  },
  {
   "cell_type": "code",
   "execution_count": 10,
   "metadata": {},
   "outputs": [],
   "source": [
    "from sklearn.linear_model import LogisticRegression\n",
    "from sklearn.metrics import classification_report, roc_curve, confusion_matrix\n",
    "\n",
    "model = LogisticRegression(max_iter=1000, class_weight='balanced', random_state=42)\n",
    "model.fit(X_train_scaled, y_train)\n",
    "\n",
    "y_pred_pos = model.predict_proba(X_test_scaled)[:, 1]"
   ]
  },
  {
   "cell_type": "code",
   "execution_count": 14,
   "metadata": {},
   "outputs": [],
   "source": [
    "import seaborn as sns\n",
    "import matplotlib.pyplot as plt\n",
    "\n",
    "# fpr, tpr, thresholds = roc_curve(y_test_binary, y_pred_pos)\n",
    "threshold = 0.7\n",
    "y_pred = (y_pred_pos >= threshold).astype(int)\n",
    "conf_matrix = confusion_matrix(y_test, y_pred)\n",
    "\n",
    "import seaborn as sns\n",
    "import matplotlib.pyplot as plt\n",
    "\n",
    "# plt.figure(figsize=(10, 8))\n",
    "# sns.heatmap(conf_matrix, annot=True, fmt='d', cmap='inferno', annot_kws={'fontsize':20})\n",
    "\n",
    "# plt.xlabel('Predicted', fontsize = 15)\n",
    "# plt.ylabel('Actual', fontsize=15)\n",
    "# plt.title('Pokemon Testing Result', fontsize=17)"
   ]
  },
  {
   "cell_type": "code",
   "execution_count": 15,
   "metadata": {},
   "outputs": [],
   "source": [
    "\n",
    "coefficients = model.coef_[0]\n",
    "index = X.columns\n",
    "\n",
    "coef_df = pd.DataFrame({'Feature': index, 'Coefficient': coefficients})\n",
    "\n",
    "coef_df['Abs_Coefficient'] = coef_df['Coefficient'].abs()\n",
    "coef_df_sorted = coef_df.sort_values(by='Abs_Coefficient', ascending=True)\n",
    "\n",
    "# plt.figure(figsize=(10, 6))\n",
    "# plt.barh(coef_df_sorted['Feature'], coef_df_sorted['Coefficient'], color='skyblue')\n",
    "# plt.xlabel('Coefficient Value')\n",
    "# plt.ylabel('Feature')\n",
    "# plt.title('Logistic Regression Coefficients')\n",
    "# plt.tight_layout()"
   ]
  }
 ],
 "metadata": {
  "kernelspec": {
   "display_name": "base",
   "language": "python",
   "name": "python3"
  },
  "language_info": {
   "codemirror_mode": {
    "name": "ipython",
    "version": 3
   },
   "file_extension": ".py",
   "mimetype": "text/x-python",
   "name": "python",
   "nbconvert_exporter": "python",
   "pygments_lexer": "ipython3",
   "version": "3.11.5"
  }
 },
 "nbformat": 4,
 "nbformat_minor": 2
}
